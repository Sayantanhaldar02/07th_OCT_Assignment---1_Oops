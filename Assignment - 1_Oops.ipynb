{
 "cells": [
  {
   "cell_type": "markdown",
   "id": "5f20cd02-fc45-4431-8525-a0ab4cbe9a2b",
   "metadata": {},
   "source": [
    "# Assignment - 1:Oops"
   ]
  },
  {
   "cell_type": "markdown",
   "id": "038685cd-81d2-4428-ad26-8db31ddddc83",
   "metadata": {},
   "source": [
    "Problem 1: Bank Account Create a class representing a bank account with attributes like account number, account holder name, and balance. Implement methods to deposit and withdraw money from the account."
   ]
  },
  {
   "cell_type": "code",
   "execution_count": 10,
   "id": "0af9ac15-9ced-4bf6-b0ca-8e69dfb94f11",
   "metadata": {},
   "outputs": [
    {
     "data": {
      "text/plain": [
       "'1000 rupees is debited from your bank account:- 1234567890. Total balance is:- 19000'"
      ]
     },
     "execution_count": 10,
     "metadata": {},
     "output_type": "execute_result"
    }
   ],
   "source": [
    "class Bank_account():\n",
    "    def __init__(self, account_number, account_holder_name, balance=0):\n",
    "        self.account_number=account_number\n",
    "        self.account_holder_name = account_holder_name\n",
    "        self.balance = balance\n",
    "\n",
    "    def deposite(self, amount):\n",
    "        self.balance = self.balance + amount\n",
    "        return f\"{amount} rupees is credited to your bank account:- {self.account_number}. Total balance is :- {self.balance} \"\n",
    "\n",
    "    def withdraw(self, amount):\n",
    "        if self.balance == 0:\n",
    "            return f\"You don't have sufficient balance in your account\"\n",
    "        elif self.balance < amount:\n",
    "            return f\"You don't have sufficient balance in your account\"\n",
    "        else:\n",
    "            self.balance = self.balance - amount\n",
    "            return f\"{amount} rupees is debited from your bank account:- {self.account_number}. Total balance is:- {self.balance}\"\n",
    "    \n",
    "Sayantan = Bank_account(1234567890,\"Sayantan Haldar\")\n",
    "Sayantan.deposite(10000)\n",
    "Sayantan.deposite(10000)\n",
    "Sayantan.withdraw(1000)"
   ]
  },
  {
   "cell_type": "markdown",
   "id": "a86158cd-bde3-4a8c-a706-a13c9bd1daf6",
   "metadata": {},
   "source": [
    "Problem 2: Employee Management Create a class representing an employee with attributes like employee ID, name, and salary. Implement methods to calculate the yearly bonus and display employee details."
   ]
  },
  {
   "cell_type": "code",
   "execution_count": 21,
   "id": "95c2e1ba-adb6-4371-84a1-a2ac222aa8ea",
   "metadata": {},
   "outputs": [
    {
     "name": "stdout",
     "output_type": "stream",
     "text": [
      "Company gives you 3500.0 rupees bonus and your total salary is 38500.0\n",
      "Employee Id:101,\n",
      "Employee Name: Sayantan Haldar,\n",
      "Employee Salary: 38500.0\n",
      "\n",
      "There is no bonus for you. Your salary is 25000\n",
      "Employee Id:101,\n",
      "Employee Name: Gopal Haldar,\n",
      "Employee Salary: 25000\n"
     ]
    }
   ],
   "source": [
    "class Employee():\n",
    "    def __init__(self, employee_id, name, salary):\n",
    "        self.employee_id = employee_id\n",
    "        self.name = name\n",
    "        self.salary = salary\n",
    "\n",
    "    def yearly_bonus(self):\n",
    "        bonus_percentage = 10\n",
    "        if(self.salary>30000):\n",
    "            bonus = (self.salary * 10)/100\n",
    "            self.salary = self.salary + bonus\n",
    "            return f\"Company gives you {bonus} rupees bonus and your total salary is {self.salary}\"\n",
    "        else:\n",
    "            return f\"There is no bonus for you. Your salary is {self.salary}\"\n",
    "\n",
    "    def employee_details(self):\n",
    "        return f\"Employee Id:{self.employee_id},\\nEmployee Name: {self.name},\\nEmployee Salary: {self.salary}\"\n",
    "\n",
    "emp1 = Employee(101,\"Sayantan Haldar\", 35000)\n",
    "print(emp1.yearly_bonus())\n",
    "print(emp1.employee_details())\n",
    "print()\n",
    "emp1 = Employee(101,\"Gopal Haldar\", 25000)\n",
    "print(emp1.yearly_bonus())\n",
    "print(emp1.employee_details())\n",
    "    "
   ]
  },
  {
   "cell_type": "markdown",
   "id": "fbd461d0-4fb6-4c4c-960a-048102a7735d",
   "metadata": {},
   "source": [
    "Problem 3: Vehicle Rental Create a class representing a vehicle rental system. Implement methods to rent a vehicle, return a vehicle, and display available vehicles."
   ]
  },
  {
   "cell_type": "code",
   "execution_count": 68,
   "id": "9878626b-c0b6-40b6-8bba-e29155a8007a",
   "metadata": {},
   "outputs": [
    {
     "name": "stdout",
     "output_type": "stream",
     "text": [
      "------Available vehicles-------\n",
      "\n",
      "{'vehicle_name': 'Cycle', 'rental_price': 100}\n",
      "{'vehicle_name': 'Activa', 'rental_price': 700}\n",
      "{'vehicle_name': 'Scorpio', 'rental_price': 5000}\n",
      "{'vehicle_name': 'Royal Enfield', 'rental_price': 1200}\n",
      "\n",
      "\n",
      "Thankyou for taking service from us\n",
      "\n",
      "------Available vehicles-------\n",
      "\n",
      "{'vehicle_name': 'Cycle', 'rental_price': 100}\n",
      "{'vehicle_name': 'Scorpio', 'rental_price': 5000}\n",
      "{'vehicle_name': 'Royal Enfield', 'rental_price': 1200}\n",
      "\n",
      "\n",
      "Thankyou for returning our vehicle. Have a nice day\n",
      "\n",
      "------Available vehicles-------\n",
      "\n",
      "{'vehicle_name': 'Cycle', 'rental_price': 100}\n",
      "{'vehicle_name': 'Scorpio', 'rental_price': 5000}\n",
      "{'vehicle_name': 'Royal Enfield', 'rental_price': 1200}\n",
      "{'vehicle_name': 'Activa', 'rental_price': 700}\n",
      "\n",
      "\n"
     ]
    }
   ],
   "source": [
    "class Vehicle_Rental_System():\n",
    "    \n",
    "    def __init__(self):\n",
    "        self.vehicle_list=[\n",
    "        {\"vehicle_name\":\"Cycle\", \"rental_price\":100},\n",
    "        {\"vehicle_name\":\"Activa\", \"rental_price\":700},\n",
    "        {\"vehicle_name\":\"Scorpio\", \"rental_price\":5000},\n",
    "        {\"vehicle_name\":\"Royal Enfield\", \"rental_price\":1200}\n",
    "    ]\n",
    "        self.rent_vehicle_list=[]\n",
    "\n",
    "    def available_vehicle(self):\n",
    "        print(f\"------Available vehicles-------\\n\")\n",
    "        for i in self.vehicle_list:\n",
    "            print(i)\n",
    "        print()\n",
    "        print()\n",
    "                \n",
    "    def rent_vehicle(self, vehicle_name, amount):\n",
    "        for i in self.vehicle_list:\n",
    "            if i[\"vehicle_name\"] == vehicle_name and amount == i[\"rental_price\"]:\n",
    "                self.rent_vehicle_list.append(i)\n",
    "                self.vehicle_list.pop(self.vehicle_list.index(i))\n",
    "                print(\"Thankyou for taking service from us\\n\")  \n",
    "\n",
    "    def return_vehicle(self, vehicle_name):\n",
    "        for i in self.rent_vehicle_list:\n",
    "            if i[\"vehicle_name\"] == vehicle_name:\n",
    "                self.vehicle_list.append(i)\n",
    "                self.rent_vehicle_list.pop(self.rent_vehicle_list.index(i))\n",
    "                print(\"Thankyou for returning our vehicle. Have a nice day\\n\")\n",
    "                \n",
    "\n",
    "    \n",
    "\n",
    "user1 = Vehicle_Rental_System()\n",
    "user1.available_vehicle()\n",
    "user1.rent_vehicle(\"Activa\",700)\n",
    "user1.available_vehicle()\n",
    "user1.return_vehicle(\"Activa\")\n",
    "user1.available_vehicle()"
   ]
  },
  {
   "cell_type": "markdown",
   "id": "c6630fac-f502-4d37-9757-d5c98ec85e7d",
   "metadata": {},
   "source": [
    "Problem 4: Library Catalog Create classes representing a library and a book. Implement methods to add books to the library, borrow books, and display available books."
   ]
  },
  {
   "cell_type": "code",
   "execution_count": 95,
   "id": "48930b1f-70ad-4676-97d8-3554742bfaf4",
   "metadata": {},
   "outputs": [
    {
     "data": {
      "text/plain": [
       "['Math', 'Chemistry', 'Biology']"
      ]
     },
     "execution_count": 95,
     "metadata": {},
     "output_type": "execute_result"
    }
   ],
   "source": [
    "class Book:\n",
    "    def __init__(self, title, author, is_available=True):\n",
    "        self.title = title\n",
    "        self.author = author\n",
    "        self.is_available = is_available\n",
    "\n",
    "\n",
    "class Library:\n",
    "    def __init__(self):\n",
    "        self.book_list = []\n",
    "\n",
    "    def add_book(self, book):\n",
    "        self.book_list.append(book)\n",
    "        return f\"{book.title} is added to the library\"\n",
    "    \n",
    "    def available_books(self):\n",
    "        av_books = [book.title for book in self.book_list if book.is_available]\n",
    "        return av_books\n",
    "\n",
    "    def borrow_book(self, book_title):\n",
    "        for book in self.book_list:\n",
    "            if book_title == book.title and book.is_available:\n",
    "                book.is_available = False\n",
    "                return f\"You have borrowed the {book.title} book\"\n",
    "        return f\"{book.title} is not available\"\n",
    "\n",
    "\n",
    "\n",
    "\n",
    "book1 = Book(\"Bengali\", \"Sayantan\")\n",
    "book2 = Book(\"Math\", \"Gopal\")\n",
    "book3 = Book(\"Chemistry\", \"Gopal\")\n",
    "book4 = Book(\"Biology\", \"Avijit\")\n",
    "book5 = Book(\"Python\", \"Sayantan\")\n",
    "\n",
    "lib1 = Library()\n",
    "\n",
    "lib1.add_book(book1)\n",
    "lib1.add_book(book2)\n",
    "lib1.add_book(book3)\n",
    "lib1.add_book(book4)\n",
    "lib1.add_book(book5)\n",
    "\n",
    "lib1.available_books()\n",
    "\n",
    "lib1.borrow_book(\"Python\")\n",
    "\n",
    "lib1.available_books()\n",
    "\n",
    "lib1.borrow_book(\"Bengali\")\n",
    "lib1.available_books()"
   ]
  },
  {
   "cell_type": "markdown",
   "id": "93104f0a-6806-402b-9ec5-49a71382ba44",
   "metadata": {},
   "source": [
    "Problem 5: Product Inventory Create classes representing a product and an inventory system. Implement methods to add products to the inventory, update product quantity, and display available products."
   ]
  },
  {
   "cell_type": "code",
   "execution_count": 106,
   "id": "50028a2d-eb9e-47dc-88f7-1142b557a138",
   "metadata": {},
   "outputs": [
    {
     "data": {
      "text/plain": [
       "\"'Earbuds' addded to the inventory\""
      ]
     },
     "execution_count": 106,
     "metadata": {},
     "output_type": "execute_result"
    }
   ],
   "source": [
    "class Product:\n",
    "    def __init__(self, product_name, product_quantity, is_available=True):\n",
    "        self.product_name = product_name\n",
    "        self.product_quantity = product_quantity\n",
    "        self.is_available = is_available\n",
    "\n",
    "    def get_product_details(self):\n",
    "        return f\"Product Name: {self.product_name}\\nProduct Quantity: {self.product_quantity}\\nIs Available: {self.is_available}\"\n",
    "    \n",
    "\n",
    "class Inventory_system:\n",
    "\n",
    "    def __init__(self):\n",
    "        self.inventory_items = []\n",
    "\n",
    "    def add_product(self, product):\n",
    "        self.inventory_items.append(product)\n",
    "        return f\"'{product.product_name}' addded to the inventory\"\n",
    "    \n",
    "    def update_product_quantity(self, product_name, quantity):\n",
    "        if len(self.inventory_items) > 0:\n",
    "            for product in self.inventory_items:\n",
    "                if product.product_name == product_name and product.is_available:\n",
    "                    product.product_quantity += quantity\n",
    "                    return f\"Product Quantity Update Successfully\"\n",
    "            return f\"No product found. Please enter correct product name\"\n",
    "        else:\n",
    "            return f\"Product Inventory is empty\"\n",
    "        \n",
    "    def available_products(self):\n",
    "        av_products = [(product.product_name, product.product_quantity) for product in self.inventory_items if product.is_available]\n",
    "        return av_products\n",
    "    \n",
    "\n",
    "product1 = Product(\"Mobile\", 200)\n",
    "product2 = Product(\"Laptop\", 150)\n",
    "product3 = Product(\"Earphone\", 500)\n",
    "product4 = Product(\"Smart Watch\", 250)\n",
    "product5 = Product(\"Mouse\", 200)\n",
    "product6 = Product(\"Earbuds\", 70)\n",
    "\n",
    "pl = [product1,product2,product3,product4,product5,product6]\n",
    "inventory = Inventory_system()\n",
    "inventory.add_product(product1)\n",
    "inventory.add_product(product2)\n",
    "inventory.add_product(product3)\n",
    "inventory.add_product(product4)\n",
    "inventory.add_product(product5)\n",
    "inventory.add_product(product6)"
   ]
  },
  {
   "cell_type": "code",
   "execution_count": 107,
   "id": "67138b5c-3881-4352-828e-18f40b1d76ff",
   "metadata": {},
   "outputs": [
    {
     "data": {
      "text/plain": [
       "[('Mobile', 200),\n",
       " ('Laptop', 150),\n",
       " ('Earphone', 500),\n",
       " ('Smart Watch', 250),\n",
       " ('Mouse', 200),\n",
       " ('Earbuds', 70)]"
      ]
     },
     "execution_count": 107,
     "metadata": {},
     "output_type": "execute_result"
    }
   ],
   "source": [
    "inventory.available_products()"
   ]
  },
  {
   "cell_type": "code",
   "execution_count": 110,
   "id": "63d37faf-3dca-4a65-9bb1-4eaa38694533",
   "metadata": {},
   "outputs": [
    {
     "data": {
      "text/plain": [
       "'Product Quantity Update Successfully'"
      ]
     },
     "execution_count": 110,
     "metadata": {},
     "output_type": "execute_result"
    }
   ],
   "source": [
    "inventory.update_product_quantity(\"Laptop\",10)"
   ]
  },
  {
   "cell_type": "code",
   "execution_count": 111,
   "id": "e9b73655-455c-4bab-ae34-db6ec77f2a99",
   "metadata": {},
   "outputs": [
    {
     "data": {
      "text/plain": [
       "[('Mobile', 200),\n",
       " ('Laptop', 170),\n",
       " ('Earphone', 500),\n",
       " ('Smart Watch', 250),\n",
       " ('Mouse', 200),\n",
       " ('Earbuds', 70)]"
      ]
     },
     "execution_count": 111,
     "metadata": {},
     "output_type": "execute_result"
    }
   ],
   "source": [
    "inventory.available_products()"
   ]
  },
  {
   "cell_type": "markdown",
   "id": "f5f50a65-7374-4757-bf7b-028f54c26f2c",
   "metadata": {},
   "source": [
    "Problem 7: Student Management Create a class representing a student with attributes like student ID, name, and grades. Implement methods to calculate the average grade and display student details."
   ]
  },
  {
   "cell_type": "code",
   "execution_count": 114,
   "id": "28fdfe44-51e1-468d-8795-8e1421fd0524",
   "metadata": {},
   "outputs": [
    {
     "name": "stdout",
     "output_type": "stream",
     "text": [
      "Student Id: 101\n",
      "Student Name: Sayantan Haldar\n",
      "Student Grade: 77.5\n"
     ]
    }
   ],
   "source": [
    "class Student:\n",
    "    def __init__(self, student_id, student_name):\n",
    "        self.student_id = student_id\n",
    "        self.student_name = student_name\n",
    "        self.grades = []\n",
    "        self.avg_grade = 0\n",
    "\n",
    "    def add_grades(self, grade):\n",
    "        self.grades.append(grade)\n",
    "        return f\"Grade added\"\n",
    "\n",
    "    def avg_grades(self):\n",
    "        if len(self.grades)==0:\n",
    "            return 0\n",
    "        else:\n",
    "            self.avg_grade = sum(self.grades)/len(self.grades)\n",
    "        \n",
    "    def student_details(self):\n",
    "        return f\"Student Id: {self.student_id}\\nStudent Name: {self.student_name}\\nStudent Grade: {self.avg_grade}\"\n",
    "    \n",
    "\n",
    "student1 = Student(101,\"Sayantan Haldar\")\n",
    "student1.add_grades(80)\n",
    "student1.add_grades(85)\n",
    "student1.add_grades(75)\n",
    "student1.add_grades(70)\n",
    "student1.add_grades(90)\n",
    "student1.add_grades(65)\n",
    "\n",
    "student1.avg_grades()\n",
    "print(student1.student_details())\n",
    "\n"
   ]
  },
  {
   "cell_type": "markdown",
   "id": "eea3347d-9c68-4159-b98a-2a8a66a48444",
   "metadata": {},
   "source": [
    "Problem 8: Email Management Create a class representing an email with attributes like sender, recipient, and subject. Implement methods to send an email and display email details."
   ]
  },
  {
   "cell_type": "code",
   "execution_count": 128,
   "id": "8bb724c2-ee46-40e4-84d2-b0a0fd4c186a",
   "metadata": {},
   "outputs": [
    {
     "name": "stdout",
     "output_type": "stream",
     "text": [
      "Email sent to gopal@mail.com\n",
      "From: sayantan@mail.com\n",
      "To: gopal@mail.com\n",
      "Subject:This is subject\n"
     ]
    }
   ],
   "source": [
    "class Email_Management:\n",
    "    def __init__(self, sender, recipient,subject):\n",
    "        self.sender = sender\n",
    "        self.recipient = recipient\n",
    "        self.subject = subject\n",
    "\n",
    "    def send_mail(self):\n",
    "        return f\"Email sent to {self.recipient}\"\n",
    "       \n",
    "    def email_details(self):\n",
    "        return f\"From: {self.sender}\\nTo: {self.recipient}\\nSubject:{self.subject}\"\n",
    "    \n",
    "email1 = Email_Management(\"sayantan@mail.com\",\"gopal@mail.com\", \"This is subject\")\n",
    "print(email1.send_mail())\n",
    "print(email1.email_details())"
   ]
  },
  {
   "cell_type": "markdown",
   "id": "d731ea46-fb58-46d5-9eb0-06c90a53f312",
   "metadata": {},
   "source": [
    "Problem 9: Social Media Profile Create a class representing a social media profile with attributes like username and posts. Implement methods to add posts, display posts, and search for posts by keyword."
   ]
  },
  {
   "cell_type": "code",
   "execution_count": 136,
   "id": "e28de0ef-0ce8-4b41-a54a-93bfc18cc31b",
   "metadata": {},
   "outputs": [
    {
     "data": {
      "text/plain": [
       "'Post added'"
      ]
     },
     "execution_count": 136,
     "metadata": {},
     "output_type": "execute_result"
    }
   ],
   "source": [
    "class Social_media_account:\n",
    "    def __init__(self, username):\n",
    "        self.username = username\n",
    "        self.posts = []\n",
    "\n",
    "    def add_post(self, post):\n",
    "        self.posts.append(post)\n",
    "        return f\"Post added\"\n",
    "\n",
    "    def display_posts(self):\n",
    "        if len(self.posts)>0:\n",
    "            for post in self.posts:\n",
    "                print(post)\n",
    "        else:\n",
    "            return f\"No post available\"\n",
    "    \n",
    "    def search_by_keyword(self, keyword):\n",
    "        matched_post = [post for post in self.posts if keyword.lower() in post.lower()]\n",
    "        if matched_post:\n",
    "            print(f\"Your {len(matched_post)} posts containing '{keyword}'\\n\")\n",
    "\n",
    "            for post in matched_post:\n",
    "                print(post)\n",
    "        else:\n",
    "            return f\"No post found with this keyword {keyword}\"\n",
    "        \n",
    "\n",
    "account1 = Social_media_account(\"Sayantan\")\n",
    "\n",
    "account1.add_post(\"This is post 1\")\n",
    "account1.add_post(\"This is post 2\")\n",
    "account1.add_post(\"New Post 3\")\n",
    "account1.add_post(\"New Post 3\")\n",
    "account1.add_post(\"I am From barddhaman\")\n",
    "account1.add_post(\"Barddhaman is a beautiful town\")\n",
    "account1.add_post(\"Hii, My nick name is gopal\")"
   ]
  },
  {
   "cell_type": "code",
   "execution_count": 137,
   "id": "a63f1347-93b8-4bb8-9162-b6482df638d9",
   "metadata": {},
   "outputs": [
    {
     "name": "stdout",
     "output_type": "stream",
     "text": [
      "This is post 1\n",
      "This is post 2\n",
      "New Post 3\n",
      "New Post 3\n",
      "I am From barddhaman\n",
      "Barddhaman is a beautiful town\n",
      "Hii, My nick name is gopal\n"
     ]
    }
   ],
   "source": [
    "account1.display_posts()"
   ]
  },
  {
   "cell_type": "code",
   "execution_count": 138,
   "id": "5a720bf3-78fb-414a-bf88-918cea43b179",
   "metadata": {},
   "outputs": [
    {
     "name": "stdout",
     "output_type": "stream",
     "text": [
      "Your 4 posts containing 'is'\n",
      "\n",
      "This is post 1\n",
      "This is post 2\n",
      "Barddhaman is a beautiful town\n",
      "Hii, My nick name is gopal\n"
     ]
    }
   ],
   "source": [
    "account1.search_by_keyword(\"is\")"
   ]
  },
  {
   "cell_type": "code",
   "execution_count": 139,
   "id": "a10daf6d-0214-43de-b156-9d11cdddbbde",
   "metadata": {},
   "outputs": [
    {
     "name": "stdout",
     "output_type": "stream",
     "text": [
      "Your 2 posts containing 'barddhaman'\n",
      "\n",
      "I am From barddhaman\n",
      "Barddhaman is a beautiful town\n"
     ]
    }
   ],
   "source": [
    "account1.search_by_keyword(\"barddhaman\")"
   ]
  },
  {
   "cell_type": "markdown",
   "id": "d2b5fbc7-c4ab-464d-b5b7-18055e4a6994",
   "metadata": {},
   "source": [
    "Problem 10: ToDo List Create a class representing a ToDo list with attributes like tasks and due dates. Implement methods to add tasks, mark tasks as completed, and display pending tasks."
   ]
  },
  {
   "cell_type": "code",
   "execution_count": 146,
   "id": "d399cc65-9f33-4225-81ba-09964ccbfecd",
   "metadata": {},
   "outputs": [
    {
     "data": {
      "text/plain": [
       "'Task Added'"
      ]
     },
     "execution_count": 146,
     "metadata": {},
     "output_type": "execute_result"
    }
   ],
   "source": [
    "class Todo:\n",
    "    def __init__(self,todo_id, todo_title, due_date, is_complete=False):\n",
    "        self.todo_id = todo_id\n",
    "        self.todo_title = todo_title\n",
    "        self.due_date = due_date\n",
    "        self.is_complete = is_complete\n",
    "\n",
    "    def todo_details(self):\n",
    "        return f\"Todo Titile: {self.todo_title}\\n Due Date: {self.due_date} {'Complete' if self.is_complete==True else 'Pending'}\"\n",
    "    \n",
    "\n",
    "class Todo_manager:\n",
    "    def __init__(self):\n",
    "        self.all_task = []\n",
    "\n",
    "    def add_task(self, task):\n",
    "        self.all_task.append(task)\n",
    "        return f\"Task Added\"\n",
    "\n",
    "    def marked_as_complete(self, id):\n",
    "        if len(self.all_task)>0:\n",
    "            for todo in self.all_task:\n",
    "                if todo.todo_id == id and todo.is_complete==False:\n",
    "                    todo.is_complete = True\n",
    "                    return f\"Marked as Complete\"\n",
    "            return \"Todo Not Found\"\n",
    "        else:\n",
    "            return \"Todo list is empty please add atleast one todo\"\n",
    "\n",
    "    def complete_todo_list(self):\n",
    "        if len(self.all_task)>0:\n",
    "            todos = [todo.todo_title for todo in self.all_task if todo.is_complete]\n",
    "            return todos\n",
    "        return \"Todos are not completed\"\n",
    "\n",
    "todo1 = Todo(1, \"title1\", \"12-01-2024\")\n",
    "todo2 = Todo(2, \"title2\", \"12-01-2024\")\n",
    "todo3 = Todo(3, \"title3\", \"12-01-2024\")\n",
    "todo4 = Todo(4, \"title4\", \"12-01-2024\")\n",
    "todo5 = Todo(5, \"title5\", \"12-01-2024\")\n",
    "todo6 = Todo(6, \"title6\", \"12-01-2024\")\n",
    "\n",
    "\n",
    "todo_manager = Todo_manager()\n",
    "todo_manager.add_task(todo1)\n",
    "todo_manager.add_task(todo2)\n",
    "todo_manager.add_task(todo3)\n",
    "todo_manager.add_task(todo4)\n",
    "todo_manager.add_task(todo5)\n",
    "todo_manager.add_task(todo6)"
   ]
  },
  {
   "cell_type": "code",
   "execution_count": 147,
   "id": "50055f80-a97c-414e-8be6-789e239000a8",
   "metadata": {},
   "outputs": [
    {
     "data": {
      "text/plain": [
       "'Marked as Complete'"
      ]
     },
     "execution_count": 147,
     "metadata": {},
     "output_type": "execute_result"
    }
   ],
   "source": [
    "todo_manager.marked_as_complete(5)"
   ]
  },
  {
   "cell_type": "code",
   "execution_count": 148,
   "id": "ad03a6fe-23f8-4b1d-9122-c3657a79b4eb",
   "metadata": {},
   "outputs": [
    {
     "data": {
      "text/plain": [
       "'Marked as Complete'"
      ]
     },
     "execution_count": 148,
     "metadata": {},
     "output_type": "execute_result"
    }
   ],
   "source": [
    "todo_manager.marked_as_complete(3)"
   ]
  },
  {
   "cell_type": "code",
   "execution_count": 149,
   "id": "6231b490-0032-43cd-9f78-129416f60346",
   "metadata": {},
   "outputs": [
    {
     "data": {
      "text/plain": [
       "['title3', 'title5']"
      ]
     },
     "execution_count": 149,
     "metadata": {},
     "output_type": "execute_result"
    }
   ],
   "source": [
    "todo_manager.complete_todo_list()"
   ]
  }
 ],
 "metadata": {
  "kernelspec": {
   "display_name": "Python 3 (ipykernel)",
   "language": "python",
   "name": "python3"
  },
  "language_info": {
   "codemirror_mode": {
    "name": "ipython",
    "version": 3
   },
   "file_extension": ".py",
   "mimetype": "text/x-python",
   "name": "python",
   "nbconvert_exporter": "python",
   "pygments_lexer": "ipython3",
   "version": "3.11.4"
  }
 },
 "nbformat": 4,
 "nbformat_minor": 5
}
